{
 "cells": [
  {
   "cell_type": "code",
   "execution_count": 1,
   "metadata": {},
   "outputs": [
    {
     "name": "stdout",
     "output_type": "stream",
     "text": [
      "병합된 CSV 파일이 저장되었습니다: ../datasets/wifi_rssi_log_merged.csv\n"
     ]
    }
   ],
   "source": [
    "import os\n",
    "import pandas as pd\n",
    "\n",
    "# 병합할 CSV 파일이 있는 디렉토리 경로\n",
    "directory = \"../datasets\"  # 원하는 디렉토리로 변경\n",
    "\n",
    "# CSV 파일 리스트 가져오기\n",
    "csv_files = [f for f in os.listdir(directory) if f.endswith(\".csv\")]\n",
    "\n",
    "# 모든 CSV 파일을 DataFrame 리스트로 읽기\n",
    "df_list = [pd.read_csv(os.path.join(directory, file)) for file in csv_files]\n",
    "\n",
    "# 모든 DataFrame 병합\n",
    "merged_df = pd.concat(df_list, ignore_index=True)\n",
    "\n",
    "# 중복 행 제거\n",
    "merged_df.drop_duplicates(inplace=True)\n",
    "\n",
    "# 병합된 CSV 저장\n",
    "output_file = os.path.join(directory, \"wifi_rssi_log_merged.csv\")\n",
    "merged_df.to_csv(output_file, index=False, encoding=\"utf-8\")\n",
    "\n",
    "print(f\"병합된 CSV 파일이 저장되었습니다: {output_file}\")"
   ]
  },
  {
   "cell_type": "code",
   "execution_count": null,
   "metadata": {},
   "outputs": [
    {
     "name": "stdout",
     "output_type": "stream",
     "text": [
      "📁 저장된 파일: ../datasets/wifi_rssi_log_modified_{current_time}.csv\n"
     ]
    }
   ],
   "source": [
    "import pandas as pd\n",
    "from datetime import datetime\n",
    "\n",
    "# 현재 날짜 및 시간 가져오기\n",
    "current_time = datetime.now().strftime(\"%Y%m%d_%H%M%S\")\n",
    "\n",
    "# CSV 파일 경로\n",
    "file_path = \"../datasets/wifi_rssi_log_merged_20250315_231513.csv\"  # 수정할 CSV 파일\n",
    "output_path = \"../datasets/wifi_rssi_log_modified_{current_time}.csv\"  # 저장할 파일\n",
    "\n",
    "# 변경할 열과 값 지정\n",
    "column_name = \"Location\"  # 변경할 열 이름\n",
    "# 여러 값 변경 (딕셔너리 사용)\n",
    "replace_dict = {\n",
    "    \"5143-1\": \"hall_5143_8\",\n",
    "    \"5143-2\": \"hall_5143_7\",\n",
    "    \"5143-3\": \"hall_5143_6\",\n",
    "    \"5143-4\": \"hall_5143_5\",\n",
    "    \"5143-5\": \"hall_5143_4\",\n",
    "    \"5143-6\": \"hall_5143_3\",\n",
    "}\n",
    "\n",
    "# CSV 파일 읽기\n",
    "df = pd.read_csv(file_path)\n",
    "\n",
    "# 특정 열에서 값 변경\n",
    "df[column_name] = df[column_name].replace(replace_dict)\n",
    "# 변경된 CSV 저장\n",
    "df.to_csv(output_path, index=False, encoding=\"utf-8\")\n",
    "\n",
    "print(f\"저장된 파일: {output_path}\")"
   ]
  },
  {
   "cell_type": "code",
   "execution_count": 1,
   "metadata": {},
   "outputs": [
    {
     "name": "stdout",
     "output_type": "stream",
     "text": [
      "{-81: '2025-04-03 18:35:25', -85: '2025-04-03 18:35:25', -57: '2025-04-03 18:35:25', -70: '2025-04-03 18:35:25', -75: '2025-04-03 18:35:25', -82: '2025-04-03 18:35:25', -49: '2025-04-03 18:35:25', -73: '2025-04-03 18:35:25', -63: '2025-04-03 18:35:25', -66: '2025-04-03 18:35:25', -84: '2025-04-03 18:35:25', -87: '2025-04-03 18:35:25', -92: '2025-04-03 18:35:25', -86: '2025-04-03 18:35:25', -60: '2025-04-03 18:35:25', -88: '2025-04-03 18:35:25', -62: '2025-04-03 18:35:25', -64: '2025-04-03 18:35:25', -74: '2025-04-03 18:35:25', -96: '2025-04-03 18:35:25', -72: '2025-04-03 18:35:25', -65: '2025-04-03 18:35:25', -71: '2025-04-03 18:35:25', -89: '2025-04-03 18:35:25'}\n"
     ]
    }
   ],
   "source": [
    "import pandas as pd\n",
    "\n",
    "data = \"\"\"SSID,MAC,RSSI,Time,Location\n",
    "DGU-GUEST,2a:3f:1b:59:2e:74,-81,2025-04-03 18:35:25,hall_5143_1_5,\n",
    "DGU-WIFI,ee:55:b8:6e:51:f5,-85,2025-04-03 18:35:25,hall_5143_1_5,\n",
    "6122,70:5d:cc:a3:b1:fa,-57,2025-04-03 18:35:25,hall_5143_1_5,\n",
    "DGU-IoT,22:3f:1b:e2:63:60,-70,2025-04-03 18:35:25,hall_5143_1_5,\n",
    "SmartClass,2e:3f:1b:f3:73:d7,-75,2025-04-03 18:35:25,hall_5143_1_5,\n",
    "DGU-GUEST,2a:3f:0b:59:2e:74,-70,2025-04-03 18:35:25,hall_5143_1_5,\n",
    "DGU-IoT,22:3f:1b:59:2e:74,-82,2025-04-03 18:35:25,hall_5143_1_5,\n",
    "HRILAB,58:86:94:16:4a:a8,-49,2025-04-03 18:35:25,hall_5143_1_5,\n",
    "iptime5130_5G,58:86:94:ae:06:df,-73,2025-04-03 18:35:25,hall_5143_1_5,\n",
    "DGU-WIFI,ee:55:a8:6e:53:4a,-63,2025-04-03 18:35:25,hall_5143_1_5,\n",
    "iptime5130,58:86:94:ae:06:de,-63,2025-04-03 18:35:25,hall_5143_1_5,\n",
    "solfamily_sin_5F,68:27:19:3d:b8:2d,-66,2025-04-03 18:35:25,hall_5143_1_5,\n",
    "DGU-GUEST,2a:3f:1b:e2:63:60,-70,2025-04-03 18:35:25,hall_5143_1_5,\n",
    "HRILAB5G,5a:86:94:46:4a:a8,-84,2025-04-03 18:35:25,hall_5143_1_5,\n",
    "DGU-WIFI,26:3f:1b:e2:63:60,-70,2025-04-03 18:35:25,hall_5143_1_5,\n",
    "hri51255G,5a:86:94:4e:cb:00,-87,2025-04-03 18:35:25,hall_5143_1_5,\n",
    "7204,34:fc:b9:c8:fe:d0,-92,2025-04-03 18:35:25,hall_5143_1_5,\n",
    ",da:55:b8:6e:63:8f,-86,2025-04-03 18:35:25,hall_5143_1_5,\n",
    "kwon,58:86:94:16:3d:88,-60,2025-04-03 18:35:25,hall_5143_1_5,\n",
    "DGU-GUEST,e2:55:b8:6e:63:8f,-88,2025-04-03 18:35:25,hall_5143_1_5,\n",
    "SVM5132,70:5d:cc:1d:b2:a8,-73,2025-04-03 18:35:25,hall_5143_1_5,\n",
    "eduroam,36:3f:1b:59:2e:74,-82,2025-04-03 18:35:25,hall_5143_1_5,\n",
    "DGU-WIFI,26:3f:0b:e2:65:73,-70,2025-04-03 18:35:25,hall_5143_1_5,\n",
    "eduroam,fe:55:b8:6e:51:f5,-84,2025-04-03 18:35:25,hall_5143_1_5,\n",
    "DGU-IoT,ea:55:b8:6e:63:8f,-87,2025-04-03 18:35:25,hall_5143_1_5,\n",
    "DGU-GUEST,2a:3f:0b:e2:63:60,-62,2025-04-03 18:35:25,hall_5143_1_5,\n",
    "CSE-3183,7a:de:4b:62:c7:eb,-87,2025-04-03 18:35:25,hall_5143_1_5,\n",
    "SmartClass-IoT,22:3f:1b:f3:73:d7,-75,2025-04-03 18:35:25,hall_5143_1_5,\n",
    "DGU-GUEST,e2:55:a8:6e:53:4a,-63,2025-04-03 18:35:25,hall_5143_1_5,\n",
    "ktw5G,5a:86:94:4e:ea:78,-86,2025-04-03 18:35:25,hall_5143_1_5,\n",
    "6130_5G-2,70:5d:cc:83:6b:0e,-92,2025-04-03 18:35:25,hall_5143_1_5,\n",
    "6130_5G-1,70:5d:cc:83:6b:0c,-87,2025-04-03 18:35:25,hall_5143_1_5,\n",
    "eduroam,36:3f:1b:e2:63:60,-70,2025-04-03 18:35:25,hall_5143_1_5,\n",
    "EDLAB_2G,88:36:6c:b1:2c:38,-70,2025-04-03 18:35:25,hall_5143_1_5,\n",
    "dgu8124_5G,70:5d:cc:1d:72:0c,-88,2025-04-03 18:35:25,hall_5143_1_5,\n",
    "eduroam,fe:55:a8:6e:61:a9,-64,2025-04-03 18:35:25,hall_5143_1_5,\n",
    "plrwap,78:db:2f:0f:f4:4e,-57,2025-04-03 18:35:25,hall_5143_1_5,\n",
    "SmartClass-IoT,f6:9e:38:74:f8:92,-74,2025-04-03 18:35:25,hall_5143_1_5,\n",
    "DGU-WIFI,ee:55:b8:6e:63:8f,-88,2025-04-03 18:35:25,hall_5143_1_5,\n",
    ",aa:ee:52:de:60:ec,-88,2025-04-03 18:35:25,hall_5143_1_5,\n",
    "gnasang_5G,28:ee:52:de:53:56,-96,2025-04-03 18:35:25,hall_5143_1_5,\n",
    "SmartClass-IoT,22:3f:0b:f3:73:d7,-60,2025-04-03 18:35:25,hall_5143_1_5,\n",
    "eduroam,fe:55:a8:6e:54:1e,-72,2025-04-03 18:35:25,hall_5143_1_5,\n",
    ",12:3f:1b:f3:73:d7,-74,2025-04-03 18:35:25,hall_5143_1_5,\n",
    "DGU-IoT,22:3f:0b:e2:63:60,-65,2025-04-03 18:35:25,hall_5143_1_5,\n",
    "SmartClass,fa:9e:38:74:f8:92,-75,2025-04-03 18:35:25,hall_5143_1_5,\n",
    "10131_2.4G,90:9f:33:28:ca:9a,-71,2025-04-03 18:35:25,hall_5143_1_5,\n",
    "DGU-WIFI,26:3f:1b:59:2e:74,-81,2025-04-03 18:35:25,hall_5143_1_5,\n",
    "iptime5G,70:5d:cc:60:cd:b2,-89,2025-04-03 18:35:25,hall_5143_1_5\n",
    "\"\"\"\n",
    "\n",
    "# 데이터를 pandas DataFrame으로 변환\n",
    "from io import StringIO\n",
    "\n",
    "df = pd.read_csv(StringIO(data))\n",
    "\n",
    "# 중복된 MAC 주소 제거하고 MAC: RSSI 형태의 딕셔너리 생성\n",
    "mac_rssi_dict = dict(df.drop_duplicates(subset=[\"MAC\"])[[\"MAC\", \"RSSI\"]].values)\n",
    "\n",
    "print(mac_rssi_dict)"
   ]
  },
  {
   "cell_type": "code",
   "execution_count": 1,
   "metadata": {},
   "outputs": [
    {
     "name": "stdout",
     "output_type": "stream",
     "text": [
      "데이터베이스 'rssi_data'에서 CSV 파일 'wifi_rssi_log_A6_20250501.csv'로 변환 완료.\n"
     ]
    }
   ],
   "source": [
    "import sqlite3\n",
    "import csv\n",
    "\n",
    "# 데이터베이스 연결\n",
    "db_file = '/Users/gichanpark/Downloads/wifi_rssi_20250501.db'  # 데이터베이스 파일 경로\n",
    "conn = sqlite3.connect(db_file)\n",
    "cursor = conn.cursor()\n",
    "\n",
    "# 원하는 테이블 선택\n",
    "table_name = 'rssi_data'  # CSV로 변환할 테이블 이름\n",
    "\n",
    "# 테이블에서 데이터 가져오기\n",
    "cursor.execute(f\"SELECT * FROM {table_name}\")\n",
    "rows = cursor.fetchall()\n",
    "\n",
    "# CSV 파일 저장 경로 설정\n",
    "csv_file = 'wifi_rssi_log_A6_20250501.csv'  # 저장할 CSV 파일 이름\n",
    "\n",
    "# CSV 파일로 데이터 저장\n",
    "with open(csv_file, mode='w', newline='') as file:\n",
    "    writer = csv.writer(file)\n",
    "\n",
    "    # 컬럼 헤더 작성\n",
    "    column_names = [description[0] for description in cursor.description]\n",
    "    writer.writerow(column_names)\n",
    "\n",
    "    # 데이터 행 작성\n",
    "    for row in rows:\n",
    "        writer.writerow(row)\n",
    "\n",
    "# 연결 종료\n",
    "cursor.close()\n",
    "conn.close()\n",
    "\n",
    "print(f\"데이터베이스 '{table_name}'에서 CSV 파일 '{csv_file}'로 변환 완료.\")"
   ]
  },
  {
   "cell_type": "code",
   "execution_count": 2,
   "metadata": {},
   "outputs": [
    {
     "name": "stdout",
     "output_type": "stream",
     "text": [
      "첫 번째 열이 삭제된 새로운 CSV 파일이 저장되었습니다.\n"
     ]
    }
   ],
   "source": [
    "import pandas as pd\n",
    "\n",
    "# CSV 파일 불러오기\n",
    "df = pd.read_csv('/Users/gichanpark/Desktop/castone_design/finger_printing/datasets/raw/wifi_rssi_log_A6.csv')\n",
    "\n",
    "# 첫 번째 열 삭제 (index 0이 첫 번째 열)\n",
    "df = df.drop(df.columns[0], axis=1)\n",
    "\n",
    "# 삭제된 파일 저장 (새로운 파일로 저장)\n",
    "df.to_csv('modified_file.csv', index=False)\n",
    "\n",
    "print(\"첫 번째 열이 삭제된 새로운 CSV 파일이 저장되었습니다.\")"
   ]
  },
  {
   "cell_type": "code",
   "execution_count": 4,
   "metadata": {},
   "outputs": [
    {
     "name": "stdout",
     "output_type": "stream",
     "text": [
      "Location    Time               \n",
      "ev_5_1_1    2025-04-03 18:13:11    71\n",
      "            2025-04-03 18:13:13    71\n",
      "            2025-04-03 18:13:14    71\n",
      "            2025-04-03 18:13:15    71\n",
      "            2025-04-03 18:13:17    71\n",
      "                                   ..\n",
      "toilet_5_7  2025-03-27 17:46:41    28\n",
      "            2025-03-27 17:46:42    28\n",
      "            2025-03-27 17:46:43    28\n",
      "            2025-03-27 17:46:44    28\n",
      "            2025-03-27 17:46:45    28\n",
      "Length: 7919, dtype: int64\n"
     ]
    }
   ],
   "source": [
    "import pandas as pd\n",
    "\n",
    "# CSV 파일 불러오기\n",
    "df = pd.read_csv('/Users/gichanpark/Desktop/castone_design/finger_printing/datasets/merged/wifi_rssi_log_merged_20250412_224616_new.csv')\n",
    "\n",
    "# Location별로 그룹화하고 각 그룹의 개수 세기\n",
    "location_counts = df.groupby(['Location','Time']).size()\n",
    "\n",
    "# 결과 출력\n",
    "print(location_counts)\n",
    "\n",
    "# 만약 결과를 새로운 CSV로 저장하고 싶다면\n",
    "location_counts.to_csv('location_counts.csv', header=True)"
   ]
  },
  {
   "cell_type": "code",
   "execution_count": null,
   "metadata": {},
   "outputs": [
    {
     "name": "stdout",
     "output_type": "stream",
     "text": [
      "Location\n",
      "ev_5_1_1      30\n",
      "ev_5_1_2      30\n",
      "ev_5_1_3      30\n",
      "ev_5_1_4      30\n",
      "ev_5_1_5      30\n",
      "              ..\n",
      "toilet_5_3    30\n",
      "toilet_5_4    30\n",
      "toilet_5_5    30\n",
      "toilet_5_6    30\n",
      "toilet_5_7    30\n",
      "Name: Time, Length: 262, dtype: int64\n"
     ]
    }
   ],
   "source": [
    "import pandas as pd\n",
    "\n",
    "# CSV 파일 불러오기\n",
    "df = pd.read_csv('/Users/gichanpark/Desktop/castone_design/finger_printing/datasets/merged/wifi_rssi_log_merged_20250412_224616_new2.csv')\n",
    "\n",
    "# Location별로 그룹화하고 각 Location에서 고유한 Time의 갯수를 세기\n",
    "location_time_counts = df.groupby('Location')['Time'].nunique()\n",
    "\n",
    "# 결과 출력\n",
    "print(location_time_counts)\n",
    "\n",
    "# 만약 결과를 새로운 CSV로 저장하고 싶다면\n",
    "location_time_counts.to_csv('location_time_measurement_counts.csv', header=True)"
   ]
  },
  {
   "cell_type": "code",
   "execution_count": null,
   "metadata": {},
   "outputs": [],
   "source": []
  }
 ],
 "metadata": {
  "kernelspec": {
   "display_name": "capstone",
   "language": "python",
   "name": "python3"
  },
  "language_info": {
   "codemirror_mode": {
    "name": "ipython",
    "version": 3
   },
   "file_extension": ".py",
   "mimetype": "text/x-python",
   "name": "python",
   "nbconvert_exporter": "python",
   "pygments_lexer": "ipython3",
   "version": "3.8.16"
  }
 },
 "nbformat": 4,
 "nbformat_minor": 2
}
