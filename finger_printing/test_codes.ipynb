{
 "cells": [
  {
   "cell_type": "code",
   "execution_count": 1,
   "metadata": {},
   "outputs": [
    {
     "name": "stdout",
     "output_type": "stream",
     "text": [
      "병합된 CSV 파일이 저장되었습니다: ../datasets/wifi_rssi_log_merged.csv\n"
     ]
    }
   ],
   "source": [
    "import os\n",
    "import pandas as pd\n",
    "\n",
    "# 병합할 CSV 파일이 있는 디렉토리 경로\n",
    "directory = \"../datasets\"  # 원하는 디렉토리로 변경\n",
    "\n",
    "# CSV 파일 리스트 가져오기\n",
    "csv_files = [f for f in os.listdir(directory) if f.endswith(\".csv\")]\n",
    "\n",
    "# 모든 CSV 파일을 DataFrame 리스트로 읽기\n",
    "df_list = [pd.read_csv(os.path.join(directory, file)) for file in csv_files]\n",
    "\n",
    "# 모든 DataFrame 병합\n",
    "merged_df = pd.concat(df_list, ignore_index=True)\n",
    "\n",
    "# 중복 행 제거\n",
    "merged_df.drop_duplicates(inplace=True)\n",
    "\n",
    "# 병합된 CSV 저장\n",
    "output_file = os.path.join(directory, \"wifi_rssi_log_merged.csv\")\n",
    "merged_df.to_csv(output_file, index=False, encoding=\"utf-8\")\n",
    "\n",
    "print(f\"병합된 CSV 파일이 저장되었습니다: {output_file}\")"
   ]
  },
  {
   "cell_type": "code",
   "execution_count": null,
   "metadata": {},
   "outputs": [
    {
     "name": "stdout",
     "output_type": "stream",
     "text": [
      "📁 저장된 파일: ../datasets/wifi_rssi_log_modified_{current_time}.csv\n"
     ]
    }
   ],
   "source": [
    "import pandas as pd\n",
    "from datetime import datetime\n",
    "\n",
    "# 현재 날짜 및 시간 가져오기\n",
    "current_time = datetime.now().strftime(\"%Y%m%d_%H%M%S\")\n",
    "\n",
    "# CSV 파일 경로\n",
    "file_path = \"../datasets/wifi_rssi_log_merged_20250315_231513.csv\"  # 수정할 CSV 파일\n",
    "output_path = \"../datasets/wifi_rssi_log_modified_{current_time}.csv\"  # 저장할 파일\n",
    "\n",
    "# 변경할 열과 값 지정\n",
    "column_name = \"Location\"  # 변경할 열 이름\n",
    "# 여러 값 변경 (딕셔너리 사용)\n",
    "replace_dict = {\n",
    "    \"5143-1\": \"hall_5143_8\",\n",
    "    \"5143-2\": \"hall_5143_7\",\n",
    "    \"5143-3\": \"hall_5143_6\",\n",
    "    \"5143-4\": \"hall_5143_5\",\n",
    "    \"5143-5\": \"hall_5143_4\",\n",
    "    \"5143-6\": \"hall_5143_3\",\n",
    "}\n",
    "\n",
    "# CSV 파일 읽기\n",
    "df = pd.read_csv(file_path)\n",
    "\n",
    "# 특정 열에서 값 변경\n",
    "df[column_name] = df[column_name].replace(replace_dict)\n",
    "# 변경된 CSV 저장\n",
    "df.to_csv(output_path, index=False, encoding=\"utf-8\")\n",
    "\n",
    "print(f\"저장된 파일: {output_path}\")"
   ]
  },
  {
   "cell_type": "code",
   "execution_count": 6,
   "metadata": {},
   "outputs": [
    {
     "name": "stdout",
     "output_type": "stream",
     "text": [
      "{\n",
      "    \"locations\": {\n",
      "        \"72:5d:cc:4d:b2:a8\": -62,\n",
      "        \"2a:3f:1b:59:2e:74\": -82,\n",
      "        \"22:3f:1b:e2:63:60\": -68,\n",
      "        \"2e:3f:1b:f3:73:d7\": -78,\n",
      "        \"5a:86:94:46:3d:88\": -88,\n",
      "        \"2a:3f:0b:59:2e:74\": -71,\n",
      "        \"00:08:9f:7c:c9:3c\": -68,\n",
      "        \"34:fc:b9:c8:c5:12\": -96,\n",
      "        \"22:3f:1b:59:2e:74\": -82,\n",
      "        \"58:86:94:16:4a:a8\": -57,\n",
      "        \"58:86:94:ae:06:df\": -72,\n",
      "        \"58:86:94:ae:06:de\": -59,\n",
      "        \"70:5d:cc:d2:35:6c\": -95,\n",
      "        \"78:db:2f:10:04:65\": -60,\n",
      "        \"68:27:19:3d:b8:2d\": -46,\n",
      "        \"f6:9e:28:74:f8:92\": -66,\n",
      "        \"fe:55:b8:6e:63:8f\": -81,\n",
      "        \"2a:3f:1b:e2:63:60\": -68,\n",
      "        \"88:36:6c:0c:b6:4c\": -85,\n",
      "        \"26:3f:1b:e2:63:60\": -68,\n",
      "        \"34:fc:b9:c9:05:d1\": -92,\n",
      "        \"34:fc:b9:c9:05:d0\": -92,\n",
      "        \"34:fc:b9:c8:20:93\": -94,\n",
      "        \"34:fc:b9:c9:05:d2\": -92,\n",
      "        \"da:55:b8:6e:63:8f\": -80,\n",
      "        \"ea:55:a8:6e:54:1e\": -69,\n",
      "        \"2e:3f:1b:e2:63:60\": -68,\n",
      "        \"58:86:94:16:3d:88\": -59,\n",
      "        \"e2:55:b8:6e:63:8f\": -81,\n",
      "        \"70:5d:cc:1d:b2:a8\": -68,\n",
      "        \"36:3f:1b:59:2e:74\": -82,\n",
      "        \"ea:55:b8:6e:63:8f\": -81,\n",
      "        \"e6:55:b8:6e:63:8f\": -81,\n",
      "        \"7a:de:4b:62:c7:ec\": -91,\n",
      "        \"7a:de:4b:62:c7:eb\": -90,\n",
      "        \"22:3f:1b:f3:73:d7\": -78,\n",
      "        \"58:86:94:7e:ea:78\": -52,\n",
      "        \"88:36:6c:42:04:36\": -86,\n",
      "        \"5a:86:94:4e:ea:78\": -87,\n",
      "        \"36:3f:1b:e2:63:60\": -68,\n",
      "        \"12:3f:1b:e2:67:10\": -91,\n",
      "        \"58:86:94:ea:f7:4c\": -91,\n",
      "        \"f6:9e:38:74:f8:92\": -68,\n",
      "        \"34:fc:b9:c8:e6:a3\": -81,\n",
      "        \"ee:55:b8:6e:63:8f\": -81,\n",
      "        \"22:3f:0b:f3:73:d7\": -68,\n",
      "        \"fe:55:a8:6e:54:1e\": -69,\n",
      "        \"12:3f:1b:e2:63:60\": -68,\n",
      "        \"22:3f:0b:e2:63:60\": -60,\n",
      "        \"fa:9e:38:74:f8:92\": -68,\n",
      "        \"26:3f:1b:59:2e:74\": -82\n",
      "    }\n",
      "}\n"
     ]
    }
   ],
   "source": [
    "import pandas as pd\n",
    "import json\n",
    "\n",
    "\n",
    "data = \"\"\"SSID,MAC,RSSI,Time,Location, id\n",
    "SVM5132_2.4GHz,72:5d:cc:4d:b2:a8,-62,2025-04-03 18:33:53,hall_5143_1_3,\n",
    "DGU-GUEST,2a:3f:1b:59:2e:74,-82,2025-04-03 18:33:53,hall_5143_1_3,\n",
    "DGU-IoT,22:3f:1b:e2:63:60,-68,2025-04-03 18:33:53,hall_5143_1_3,\n",
    "SmartClass,2e:3f:1b:f3:73:d7,-78,2025-04-03 18:33:53,hall_5143_1_3,\n",
    "kwon5G,5a:86:94:46:3d:88,-88,2025-04-03 18:33:53,hall_5143_1_3,\n",
    "DGU-GUEST,2a:3f:0b:59:2e:74,-71,2025-04-03 18:33:53,hall_5143_1_3,\n",
    "LAB8128,00:08:9f:7c:c9:3c,-68,2025-04-03 18:33:53,hall_5143_1_3,\n",
    "6203,34:fc:b9:c8:c5:12,-96,2025-04-03 18:33:53,hall_5143_1_3,\n",
    "DGU-IoT,22:3f:1b:59:2e:74,-82,2025-04-03 18:33:53,hall_5143_1_3,\n",
    "HRILAB,58:86:94:16:4a:a8,-57,2025-04-03 18:33:53,hall_5143_1_3,\n",
    "iptime5130_5G,58:86:94:ae:06:df,-72,2025-04-03 18:33:53,hall_5143_1_3,\n",
    "iptime5130,58:86:94:ae:06:de,-59,2025-04-03 18:33:53,hall_5143_1_3,\n",
    "ION Lab_5G,70:5d:cc:d2:35:6c,-95,2025-04-03 18:33:53,hall_5143_1_3,\n",
    "plrwap,78:db:2f:10:04:65,-60,2025-04-03 18:33:53,hall_5143_1_3,\n",
    "solfamily_sin_5F,68:27:19:3d:b8:2d,-46,2025-04-03 18:33:53,hall_5143_1_3,\n",
    "SmartClass-IoT,f6:9e:28:74:f8:92,-66,2025-04-03 18:33:53,hall_5143_1_3,\n",
    "eduroam,fe:55:b8:6e:63:8f,-81,2025-04-03 18:33:53,hall_5143_1_3,\n",
    "DGU-GUEST,2a:3f:1b:e2:63:60,-68,2025-04-03 18:33:53,hall_5143_1_3,\n",
    "CG51055G,88:36:6c:0c:b6:4c,-85,2025-04-03 18:33:53,hall_5143_1_3,\n",
    "DGU-WIFI,26:3f:1b:e2:63:60,-68,2025-04-03 18:33:53,hall_5143_1_3,\n",
    "6205,34:fc:b9:c9:05:d1,-92,2025-04-03 18:33:53,hall_5143_1_3,\n",
    "6204,34:fc:b9:c9:05:d0,-92,2025-04-03 18:33:53,hall_5143_1_3,\n",
    "7203,34:fc:b9:c8:20:93,-94,2025-04-03 18:33:53,hall_5143_1_3,\n",
    "DGU-dorm,34:fc:b9:c9:05:d2,-92,2025-04-03 18:33:53,hall_5143_1_3,\n",
    ",da:55:b8:6e:63:8f,-80,2025-04-03 18:33:53,hall_5143_1_3,\n",
    "DGU-IoT,ea:55:a8:6e:54:1e,-69,2025-04-03 18:33:53,hall_5143_1_3,\n",
    ",2e:3f:1b:e2:63:60,-68,2025-04-03 18:33:53,hall_5143_1_3,\n",
    "kwon,58:86:94:16:3d:88,-59,2025-04-03 18:33:53,hall_5143_1_3,\n",
    "DGU-GUEST,e2:55:b8:6e:63:8f,-81,2025-04-03 18:33:53,hall_5143_1_3,\n",
    "SVM5132,70:5d:cc:1d:b2:a8,-68,2025-04-03 18:33:53,hall_5143_1_3,\n",
    "eduroam,36:3f:1b:59:2e:74,-82,2025-04-03 18:33:53,hall_5143_1_3,\n",
    "DGU-IoT,ea:55:b8:6e:63:8f,-81,2025-04-03 18:33:53,hall_5143_1_3,\n",
    ",e6:55:b8:6e:63:8f,-81,2025-04-03 18:33:53,hall_5143_1_3,\n",
    ",7a:de:4b:62:c7:ec,-91,2025-04-03 18:33:53,hall_5143_1_3,\n",
    "CSE-3183,7a:de:4b:62:c7:eb,-90,2025-04-03 18:33:53,hall_5143_1_3,\n",
    "SmartClass-IoT,22:3f:1b:f3:73:d7,-78,2025-04-03 18:33:53,hall_5143_1_3,\n",
    "ktw,58:86:94:7e:ea:78,-52,2025-04-03 18:33:53,hall_5143_1_3,\n",
    "CBLAB_5G,88:36:6c:42:04:36,-86,2025-04-03 18:33:53,hall_5143_1_3,\n",
    "ktw5G,5a:86:94:4e:ea:78,-87,2025-04-03 18:33:53,hall_5143_1_3,\n",
    "eduroam,36:3f:1b:e2:63:60,-68,2025-04-03 18:33:53,hall_5143_1_3,\n",
    ",12:3f:1b:e2:67:10,-91,2025-04-03 18:33:53,hall_5143_1_3,\n",
    "CSDC2_5157_5G,58:86:94:ea:f7:4c,-91,2025-04-03 18:33:53,hall_5143_1_3,\n",
    "SmartClass-IoT,f6:9e:38:74:f8:92,-68,2025-04-03 18:33:53,hall_5143_1_3,\n",
    "DGU-dorm,34:fc:b9:c8:e6:a3,-81,2025-04-03 18:33:53,hall_5143_1_3,\n",
    "DGU-WIFI,ee:55:b8:6e:63:8f,-81,2025-04-03 18:33:53,hall_5143_1_3,\n",
    "SmartClass-IoT,22:3f:0b:f3:73:d7,-68,2025-04-03 18:33:53,hall_5143_1_3,\n",
    "eduroam,fe:55:a8:6e:54:1e,-69,2025-04-03 18:33:53,hall_5143_1_3,\n",
    ",12:3f:1b:e2:63:60,-68,2025-04-03 18:33:53,hall_5143_1_3,\n",
    "DGU-IoT,22:3f:0b:e2:63:60,-60,2025-04-03 18:33:53,hall_5143_1_3,\n",
    "SmartClass,fa:9e:38:74:f8:92,-68,2025-04-03 18:33:53,hall_5143_1_3,\n",
    "DGU-WIFI,26:3f:1b:59:2e:74,-82,2025-04-03 18:33:53,hall_5143_1_3\n",
    "\"\"\"\n",
    "\n",
    "# 데이터를 pandas DataFrame으로 변환\n",
    "from io import StringIO\n",
    "\n",
    "df = pd.read_csv(StringIO(data))\n",
    "\n",
    "# 중복된 MAC 주소 제거하고 MAC: RSSI 형태의 딕셔너리 생성\n",
    "mac_rssi_dict = dict(df.drop_duplicates(subset=[\"MAC\"])[[\"MAC\", \"RSSI\"]].values)\n",
    "wrapped_json = {\n",
    "    \"locations\": mac_rssi_dict\n",
    "}\n",
    "\n",
    "print(json.dumps(wrapped_json, indent=4, separators=(',', ': ')))"
   ]
  },
  {
   "cell_type": "code",
   "execution_count": 1,
   "metadata": {},
   "outputs": [
    {
     "name": "stdout",
     "output_type": "stream",
     "text": [
      "데이터베이스 'rssi_data'에서 CSV 파일 'wifi_rssi_log_A6_20250501.csv'로 변환 완료.\n"
     ]
    }
   ],
   "source": [
    "import sqlite3\n",
    "import csv\n",
    "\n",
    "# 데이터베이스 연결\n",
    "db_file = '/Users/gichanpark/Downloads/wifi_rssi_20250501.db'  # 데이터베이스 파일 경로\n",
    "conn = sqlite3.connect(db_file)\n",
    "cursor = conn.cursor()\n",
    "\n",
    "# 원하는 테이블 선택\n",
    "table_name = 'rssi_data'  # CSV로 변환할 테이블 이름\n",
    "\n",
    "# 테이블에서 데이터 가져오기\n",
    "cursor.execute(f\"SELECT * FROM {table_name}\")\n",
    "rows = cursor.fetchall()\n",
    "\n",
    "# CSV 파일 저장 경로 설정\n",
    "csv_file = 'wifi_rssi_log_A6_20250501.csv'  # 저장할 CSV 파일 이름\n",
    "\n",
    "# CSV 파일로 데이터 저장\n",
    "with open(csv_file, mode='w', newline='') as file:\n",
    "    writer = csv.writer(file)\n",
    "\n",
    "    # 컬럼 헤더 작성\n",
    "    column_names = [description[0] for description in cursor.description]\n",
    "    writer.writerow(column_names)\n",
    "\n",
    "    # 데이터 행 작성\n",
    "    for row in rows:\n",
    "        writer.writerow(row)\n",
    "\n",
    "# 연결 종료\n",
    "cursor.close()\n",
    "conn.close()\n",
    "\n",
    "print(f\"데이터베이스 '{table_name}'에서 CSV 파일 '{csv_file}'로 변환 완료.\")"
   ]
  },
  {
   "cell_type": "code",
   "execution_count": 2,
   "metadata": {},
   "outputs": [
    {
     "name": "stdout",
     "output_type": "stream",
     "text": [
      "첫 번째 열이 삭제된 새로운 CSV 파일이 저장되었습니다.\n"
     ]
    }
   ],
   "source": [
    "import pandas as pd\n",
    "\n",
    "# CSV 파일 불러오기\n",
    "df = pd.read_csv('/Users/gichanpark/Desktop/castone_design/finger_printing/datasets/raw/wifi_rssi_log_A6.csv')\n",
    "\n",
    "# 첫 번째 열 삭제 (index 0이 첫 번째 열)\n",
    "df = df.drop(df.columns[0], axis=1)\n",
    "\n",
    "# 삭제된 파일 저장 (새로운 파일로 저장)\n",
    "df.to_csv('modified_file.csv', index=False)\n",
    "\n",
    "print(\"첫 번째 열이 삭제된 새로운 CSV 파일이 저장되었습니다.\")"
   ]
  },
  {
   "cell_type": "code",
   "execution_count": null,
   "metadata": {},
   "outputs": [
    {
     "name": "stdout",
     "output_type": "stream",
     "text": [
      "Location    Time               \n",
      "ev_5_1_1    2025-04-03 18:13:11    71\n",
      "            2025-04-03 18:13:13    71\n",
      "            2025-04-03 18:13:14    71\n",
      "            2025-04-03 18:13:15    71\n",
      "            2025-04-03 18:13:17    71\n",
      "                                   ..\n",
      "toilet_5_7  2025-03-27 17:46:41    28\n",
      "            2025-03-27 17:46:42    28\n",
      "            2025-03-27 17:46:43    28\n",
      "            2025-03-27 17:46:44    28\n",
      "            2025-03-27 17:46:45    28\n",
      "Length: 7919, dtype: int64\n"
     ]
    }
   ],
   "source": [
    "import pandas as pd\n",
    "\n",
    "# CSV 파일 불러오기\n",
    "df = pd.read_csv('/Users/gichanpark/Desktop/castone_design/finger_printing/datasets/merged/wifi_rssi_log_merged_20250412_224616_new.csv')\n",
    "\n",
    "# Location별로 그룹화하고 각 그룹의 개수 세기\n",
    "location_counts = df.groupby(['Location','Time']).size()\n",
    "\n",
    "# 결과 출력\n",
    "print(location_counts)\n",
    "\n",
    "# 만약 결과를 새로운 CSV로 저장하고 싶다면\n",
    "location_counts.to_csv('location_counts.csv', header=True)"
   ]
  },
  {
   "cell_type": "code",
   "execution_count": 6,
   "metadata": {},
   "outputs": [
    {
     "name": "stdout",
     "output_type": "stream",
     "text": [
      "Location\n",
      "ev_5_1_1        75\n",
      "ev_5_1_2        74\n",
      "ev_5_1_3        75\n",
      "ev_5_1_4        75\n",
      "ev_5_1_5        74\n",
      "                ..\n",
      "toilet_5_3_0    69\n",
      "toilet_5_4_0    68\n",
      "toilet_5_5_0    70\n",
      "toilet_5_6_0    67\n",
      "toilet_5_7_0    67\n",
      "Name: Time, Length: 436, dtype: int64\n"
     ]
    }
   ],
   "source": [
    "import pandas as pd\n",
    "\n",
    "# CSV 파일 불러오기\n",
    "df = pd.read_csv('/Users/gichanpark/Desktop/castone_design/finger_printing/datasets/train_dataset_augmented_3.0.csv')\n",
    "\n",
    "# Location별로 그룹화하고 각 Location에서 고유한 Time의 갯수를 세기\n",
    "location_time_counts = df.groupby('Location')['Time'].nunique()\n",
    "\n",
    "# 결과 출력\n",
    "print(location_time_counts)\n",
    "\n",
    "# 만약 결과를 새로운 CSV로 저장하고 싶다면\n",
    "location_time_counts.to_csv('location_time_measurement_counts.csv', header=True)"
   ]
  },
  {
   "cell_type": "code",
   "execution_count": 3,
   "metadata": {},
   "outputs": [
    {
     "name": "stdout",
     "output_type": "stream",
     "text": [
      "Predicted Location Frequency:\n",
      " Predicted Location\n",
      "ev_6_3_2         156\n",
      "ev_5_3_4          74\n",
      "stair_5_r_2       72\n",
      "stair_6_l_0       65\n",
      "hall_5105_3_1     59\n",
      "                ... \n",
      "hall_5103_1_2      1\n",
      "room_5143_7_5      1\n",
      "hall_5103_4_2      1\n",
      "hall_5128_1_2      1\n",
      "hall_5141_2_1      1\n",
      "Name: count, Length: 251, dtype: int64\n",
      "\n",
      "Actual Location Frequency:\n",
      " Actual Location\n",
      "hall_5141_4_6    30\n",
      "hall_5130_3_1    30\n",
      "hall_6144_1_8    30\n",
      "toilet_5_5_0     30\n",
      "hall_6105_2_2    30\n",
      "                 ..\n",
      "ev_6_3_3          1\n",
      "ev_5_2_2          1\n",
      "hall_5147_2_6     1\n",
      "ev_5_1_1          1\n",
      "stair_5_l_1       1\n",
      "Name: count, Length: 263, dtype: int64\n"
     ]
    }
   ],
   "source": [
    "import pandas as pd\n",
    "\n",
    "# CSV 파일 불러오기\n",
    "file_path = '../prediction_results.csv'  # 파일 경로를 넣어주세요\n",
    "df = pd.read_csv(file_path)\n",
    "\n",
    "# 각 열별 빈도수 계산\n",
    "predicted_location_freq = df['Predicted Location'].value_counts(dropna=False)\n",
    "actual_location_freq = df['Actual Location'].value_counts(dropna=False)\n",
    "\n",
    "# 결과 출력\n",
    "print(\"Predicted Location Frequency:\\n\", predicted_location_freq)\n",
    "print(\"\\nActual Location Frequency:\\n\", actual_location_freq)"
   ]
  },
  {
   "cell_type": "code",
   "execution_count": 1,
   "metadata": {},
   "outputs": [
    {
     "name": "stdout",
     "output_type": "stream",
     "text": [
      "\"toilet_5_7_0\", \"toilet_5_6_0\", \"toilet_5_5_0\", \"toilet_5_4_0\", \"toilet_5_3_0\", \"toilet_5_2_0\", \"toilet_5_1_0\", \"stair_5r_1_0\", \"stair_5l_3_0\", \"stair_5l_2_0\", \"stair_5l_1_0\", \"room_6141_9_3\", \"room_6141_5_2\", \"room_6141_4_6\", \"room_6141_4_3\", \"room_6141_3_8\", \"room_6141_2_7\", \"room_6141_2_3\", \"room_6141_2_2\", \"room_5143_9_5\", \"room_5143_9_3\", \"room_5143_9_2\", \"room_5143_8_4\", \"room_5143_8_3\", \"room_5143_8_2\", \"room_5143_7_3\", \"room_5143_3_5\", \"room_5143_2_5\", \"room_5143_2_3\", \"room_5143_1_5\", \"room_5143_1_4\", \"room_5141_4_4\", \"room_5141_2_3\", \"room_5141_1_5\", \"room_5141_1_4\", \"room_5141_1_3\", \"room_5141_1_2\", \"room_5141_1_1\", \"hall_toilet5_2_4\", \"hall_toilet5_1_5\", \"hall_toilet5_1_4\", \"hall_toilet5_1_3\", \"hall_toilet5_1_2\", \"hall_toilet5_1_1\", \"hall_6147_2_7\", \"hall_6147_2_6\", \"hall_6147_2_2\", \"hall_6147_1_2\", \"hall_6147_1_1\", \"hall_6144_2_1\", \"hall_6144_1_8\", \"hall_6144_1_7\", \"hall_6141_4_11\", \"hall_6141_4_10\", \"hall_6141_3_11\", \"hall_6141_2_8\", \"hall_6141_2_7\", \"hall_6141_2_5\", \"hall_6141_2_11\", \"hall_6141_2_10\", \"hall_6141_1_4\", \"hall_6141_1_12\", \"hall_6141_1_11\", \"hall_6141_1_10\", \"hall_6105_5_2\", \"hall_6105_5_1\", \"hall_6105_4_2\", \"hall_6105_4_1\", \"hall_6105_3_2\", \"hall_6105_3_1\", \"hall_6105_2_2\", \"hall_6105_2_1\", \"hall_6105_1_2\", \"hall_6105_1_1\", \"hall_6103_3_1\", \"hall_6103_2_2\", \"hall_6103_1_2\", \"hall_6103_1_1\", \"hall_5147_2_7\", \"hall_5147_2_6\", \"hall_5147_2_4\", \"hall_5147_2_3\", \"hall_5147_2_2\", \"hall_5147_1_7\", \"hall_5147_1_5\", \"hall_5147_1_4\", \"hall_5147_1_3\", \"hall_5147_1_2\", \"hall_5145_2_6\", \"hall_5145_2_3\", \"hall_5145_2_2\", \"hall_5145_2_1\", \"hall_5145_1_6\", \"hall_5145_1_3\", \"hall_5145_1_1\", \"hall_5143_2_4\", \"hall_5143_2_3\", \"hall_5143_2_2\", \"hall_5143_2_1\", \"hall_5143_1_5\", \"hall_5143_1_3\", \"hall_5141_4_7\", \"hall_5141_2_8\", \"hall_5141_2_7\", \"hall_5134_2_2\", \"hall_5134_1_1\", \"hall_5132_4_1\", \"hall_5132_3_1\", \"hall_5132_2_1\", \"hall_5132_1_1\", \"hall_5130_5_2\", \"hall_5130_5_1\", \"hall_5130_4_2\", \"hall_5130_3_1\", \"hall_5130_2_1\", \"hall_5130_1_1\", \"hall_5128_9_1\", \"hall_5128_8_2\", \"hall_5128_5_1\", \"hall_5128_3_1\", \"hall_5128_2_1\", \"hall_5128_1_1\", \"hall_5109_5_1\", \"hall_5109_4_1\", \"hall_5109_3_1\", \"hall_5109_2_1\", \"hall_5109_1_1\", \"hall_5105_5_2\", \"hall_5105_5_1\", \"hall_5103_2_2\", \"hall_5103_1_2\", \"hall_5103_1_1\", \"ev_6_3_6\", \"ev_6_3_5\", \"ev_6_3_4\", \"ev_6_3_3\", \"ev_6_3_2\", \"ev_6_2_6\", \"ev_6_2_5\", \"ev_6_2_4\", \"ev_6_2_3\", \"ev_6_2_1\", \"ev_6_1_1\", \"ev_5_3_3\", "
     ]
    }
   ],
   "source": [
    "import pandas as pd\n",
    "\n",
    "# CSV 파일 불러오기\n",
    "df = pd.read_csv(\"/Users/gichanpark/Desktop/castone_design/prediction_results.csv\")  # '파일이름.csv'를 실제 파일명으로 바꿔주세요\n",
    "\n",
    "# Location 열의 고유값을 오름차순으로 정렬\n",
    "unique_locations = sorted(df['Actual Location'].dropna().unique(), reverse=True)\n",
    "\n",
    "# 줄바꿈 없이 출력\n",
    "for location in unique_locations:\n",
    "    print(f\"\\\"{location}\\\",\", end=\" \")"
   ]
  },
  {
   "cell_type": "code",
   "execution_count": null,
   "metadata": {},
   "outputs": [],
   "source": [
    "mac_rssi = {'location1': {'26:3f:0b:e2:66:14': -57, '26:3f:0b:e2:64:73': -68, '58:86:94:de:1b:78': -74, '2a:3f:0b:e2:66:b0': -69, '2a:3f:0b:e2:64:73': -68, '88:36:6c:b1:2c:3a': -88, '26:3f:0b:e2:66:b0': -69, '2a:3f:0b:e2:66:14': -57, '58:86:94:de:10:e4': -73, '36:3f:1b:e2:64:73': -78, 'fa:14:ff:f7:54:f1': -69, '58:86:94:de:6c:84': -72, '36:3f:1b:e2:66:14': -72, '22:3f:0b:e2:66:14': -57, '22:3f:0b:e2:64:73': -67, '78:db:2f:0f:f8:7b': -80, '2a:3f:0b:59:2e:20': -73, '22:3f:1b:e2:64:73': -78, '22:3f:1b:e2:66:14': -72, '26:3f:0b:59:2e:20': -73, '2a:3f:1b:e2:64:73': -78, '70:5d:cc:cb:e6:f4': -66, '2a:3f:1b:e2:66:14': -72, '88:36:6c:b1:2c:38': -78, '26:3f:1b:e2:66:14': -72, '36:3f:0b:e2:66:14': -56, '12:ca:18:b8:83:fc': -73, '26:3f:1b:e2:64:73': -78, '36:3f:0b:e2:64:73': -67, '70:5d:cc:60:cd:b0': -58, '58:86:94:db:27:e4': -54, '40:ca:63:4e:41:b5': -78, 'b8:62:1f:50:6e:5c': -82, '70:5d:cc:60:cd:b2': -86},\n",
    "            'location2': {'26:3f:0b:e2:66:14': -57, '26:3f:0b:e2:64:73': -68, '58:86:94:de:1b:78': -74, '2a:3f:0b:e2:66:b0': -69, '2a:3f:0b:e2:64:73': -68, '88:36:6c:b1:2c:3a': -88, '26:3f:0b:e2:66:b0': -69, '2a:3f:0b:e2:66:14': -57, '58:86:94:de:10:e4': -73, '36:3f:1b:e2:64:73': -78, 'fa:14:ff:f7:54:f1': -69, '58:86:94:de:6c:84': -72, '36:3f:1b:e2:66:14': -72, '22:3f:0b:e2:66:14': -57, '22:3f:0b:e2:64:73': -67, '78:db:2f:0f:f8:7b': -80, '2a:3f:0b:59:2e:20': -\n",
    "                          73, '22:3f:1b:e2:64:73': -78, '22:3f:1b:e2:66:14': -72, '26:3f:0b:59:2e:20': -73, '2a:3f:1b:e2:64:73': -78, '70:5d:cc:cb:e6:f4': -66, '2a:3f:1b:e2:66:14': -72, '88:36:6c:b1:2c:38': -78, '26:3f:1b:e2:66:14': -72, '36:3f:0b:e2:66:14': -56, '12:ca:18:b8:83:fc': -73, '26:3f:1b:e2:64:73': -78, '36:3f:0b:e2:64:73': -67, '70:5d:cc:60:cd:b0': -58, '58:86:94:db:27:e4': -54, '40:ca:63:4e:41:b5': -78, 'b8:62:1f:50:6e:5c': -82, '70:5d:cc:60:cd:b2': -86},\n",
    "            'location3': {'26:3f:0b:e2:66:14': -57, '26:3f:0b:e2:64:73': -68, '58:86:94:de:1b:78': -74, '2a:3f:0b:e2:66:b0': -69, '2a:3f:0b:e2:64:73': -68, '88:36:6c:b1:2c:3a': -88, '26:3f:0b:e2:66:b0': -69, '2a:3f:0b:e2:66:14': -57, '58:86:94:de:10:e4': -73, '36:3f:1b:e2:64:73': -78, 'fa:14:ff:f7:54:f1': -69, '58:86:94:de:6c:84': -72, '36:3f:1b:e2:66:14': -72, '22:3f:0b:e2:66:14': -57, '22:3f:0b:e2:64:73': -67, '78:db:2f:0f:f8:7b': -80, '2a:3f:0b:59:2e:20': -73, '22:3f:1b:e2:64:73': -78, '22:3f:1b:e2:66:14': -72, '26:3f:0b:59:2e:20': -73, '2a:3f:1b:e2:64:73': -78, '70:5d:cc:cb:e6:f4': -66, '2a:3f:1b:e2:66:14': -72, '88:36:6c:b1:2c:38': -78, '26:3f:1b:e2:66:14': -72, '36:3f:0b:e2:66:14': -56, '12:ca:18:b8:83:fc': -73, '26:3f:1b:e2:64:73': -78, '36:3f:0b:e2:64:73': -67, '70:5d:cc:60:cd:b0': -58, '58:86:94:db:27:e4': -54, '40:ca:63:4e:41:b5': -78, 'b8:62:1f:50:6e:5c': -82, '70:5d:cc:60:cd:b2': -86}}"
   ]
  }
 ],
 "metadata": {
  "kernelspec": {
   "display_name": "capstone",
   "language": "python",
   "name": "python3"
  },
  "language_info": {
   "codemirror_mode": {
    "name": "ipython",
    "version": 3
   },
   "file_extension": ".py",
   "mimetype": "text/x-python",
   "name": "python",
   "nbconvert_exporter": "python",
   "pygments_lexer": "ipython3",
   "version": "3.8.16"
  }
 },
 "nbformat": 4,
 "nbformat_minor": 2
}
