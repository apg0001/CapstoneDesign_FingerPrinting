{
 "cells": [
  {
   "cell_type": "code",
   "execution_count": null,
   "metadata": {},
   "outputs": [],
   "source": [
    "import os\n",
    "import pandas as pd\n",
    "\n",
    "# 병합할 CSV 파일이 있는 디렉토리 경로\n",
    "directory = \"../datasets\"  # 원하는 디렉토리로 변경\n",
    "\n",
    "# CSV 파일 리스트 가져오기\n",
    "csv_files = [f for f in os.listdir(directory) if f.endswith(\".csv\")]\n",
    "\n",
    "# 모든 CSV 파일을 DataFrame 리스트로 읽기\n",
    "df_list = [pd.read_csv(os.path.join(directory, file)) for file in csv_files]\n",
    "\n",
    "# 모든 DataFrame 병합\n",
    "merged_df = pd.concat(df_list, ignore_index=True)\n",
    "\n",
    "# 중복 행 제거\n",
    "merged_df.drop_duplicates(inplace=True)\n",
    "\n",
    "# 병합된 CSV 저장\n",
    "output_file = os.path.join(directory, \"wifi_rssi_log_merged.csv\")\n",
    "merged_df.to_csv(output_file, index=False, encoding=\"utf-8\")\n",
    "\n",
    "print(f\"병합된 CSV 파일이 저장되었습니다: {output_file}\")"
   ]
  }
 ],
 "metadata": {
  "kernelspec": {
   "display_name": "capstone",
   "language": "python",
   "name": "python3"
  },
  "language_info": {
   "name": "python",
   "version": "3.8.16"
  }
 },
 "nbformat": 4,
 "nbformat_minor": 2
}
